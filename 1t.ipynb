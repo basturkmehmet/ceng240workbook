{
  "nbformat": 4,
  "nbformat_minor": 0,
  "metadata": {
    "colab": {
      "name": "1t.ipynb",
      "provenance": [],
      "collapsed_sections": [],
      "authorship_tag": "ABX9TyM1+putWEwqx4r4lsTOrBTd",
      "include_colab_link": true
    },
    "kernelspec": {
      "name": "python3",
      "display_name": "Python 3"
    },
    "language_info": {
      "name": "python"
    }
  },
  "cells": [
    {
      "cell_type": "markdown",
      "metadata": {
        "id": "view-in-github",
        "colab_type": "text"
      },
      "source": [
        "<a href=\"https://colab.research.google.com/github/basturkmehmet/ceng240workbook/blob/main/1t.ipynb\" target=\"_parent\"><img src=\"https://colab.research.google.com/assets/colab-badge.svg\" alt=\"Open In Colab\"/></a>"
      ]
    },
    {
      "cell_type": "code",
      "execution_count": null,
      "metadata": {
        "colab": {
          "base_uri": "https://localhost:8080/"
        },
        "id": "aso2MMRhsDKM",
        "outputId": "d3c7a734-eea6-4692-879c-555014c77e2c"
      },
      "outputs": [
        {
          "output_type": "stream",
          "name": "stdout",
          "text": [
            "563.081209632\n",
            "563.08\n"
          ]
        }
      ],
      "source": [
        "final_debt=3000*(1.02**6)\n",
        "monthly=final_debt/6\n",
        "print(monthly*1.00)\n",
        "print(\"{:.2f}\".format(monthly))"
      ]
    },
    {
      "cell_type": "code",
      "source": [
        "base_debt=input(\"Please enter your debt.\")\n",
        "final_debt1=int(base_debt)*(1.02**6)\n",
        "monthly1=final_debt1/6\n",
        "print(\"{:.2f}\".format(monthly1))"
      ],
      "metadata": {
        "colab": {
          "base_uri": "https://localhost:8080/"
        },
        "id": "60V4nsm-twyP",
        "outputId": "59d1d790-360c-4cf3-c22d-a862800c6add"
      },
      "execution_count": null,
      "outputs": [
        {
          "output_type": "stream",
          "name": "stdout",
          "text": [
            "Please enter your debt.5000\n",
            "938.47\n"
          ]
        }
      ]
    },
    {
      "cell_type": "code",
      "source": [
        "dividend=int(input(\"Please enter dividend.\"))\n",
        "divisor=int(input(\"Please enter divisor.\"))\n",
        "result=int(dividend/divisor)\n",
        "remainder=dividend%divisor\n",
        "print(\"The result is \"+ str(result),\"The remainder is \"+ str(remainder))"
      ],
      "metadata": {
        "colab": {
          "base_uri": "https://localhost:8080/"
        },
        "id": "ybSPRGQju8BQ",
        "outputId": "e7554563-a468-41e7-f181-cc5d2be53f46"
      },
      "execution_count": null,
      "outputs": [
        {
          "output_type": "stream",
          "name": "stdout",
          "text": [
            "Please enter dividend.15\n",
            "Please enter divisor.4\n",
            "The result is 3 The remainder is 3\n"
          ]
        }
      ]
    },
    {
      "cell_type": "code",
      "source": [
        "#alternatif\n",
        "dividend=int(input(\"Please enter dividend.\"))\n",
        "divisor=int(input(\"Please enter divisor.\"))\n",
        "result=int(dividend/divisor)\n",
        "remainder=dividend%divisor\n",
        "print(\"The result is: {0}, The remainder is: {1}\".format(result,remainder))"
      ],
      "metadata": {
        "colab": {
          "base_uri": "https://localhost:8080/"
        },
        "id": "QeG3KDZZwlSK",
        "outputId": "0ee7ea2a-51f0-41de-bbb3-c30b8b6666b5"
      },
      "execution_count": null,
      "outputs": [
        {
          "output_type": "stream",
          "name": "stdout",
          "text": [
            "Please enter dividend.25\n",
            "Please enter divisor.4\n",
            "The result is: 6, The remainder is: 1\n"
          ]
        }
      ]
    },
    {
      "cell_type": "code",
      "source": [
        "#greatest common divisor\n",
        "import math\n",
        "i1=int(input(\"Enter int1.\"))\n",
        "i2=int(input(\"Enter int2.\"))\n",
        "print(math.gcd(i1,i2))\n"
      ],
      "metadata": {
        "colab": {
          "base_uri": "https://localhost:8080/"
        },
        "id": "OpGBJHJrzckE",
        "outputId": "4dc760e0-cef9-4d7b-d599-4acd7098499b"
      },
      "execution_count": null,
      "outputs": [
        {
          "output_type": "stream",
          "name": "stdout",
          "text": [
            "Enter int1.35\n",
            "Enter int2.10\n",
            "5\n"
          ]
        }
      ]
    },
    {
      "cell_type": "code",
      "source": [
        "#least common multiple \n",
        "i1=int(input(\"Enter int1.\"))\n",
        "i2=int(input(\"Enter int2.\"))\n",
        "def lcm(i1,i2):\n",
        "  lcm=(i1/(gcd(i1,i2))*i2)\n",
        "  print(lcm)\n",
        "lcm(i1,i2)\n",
        "\n"
      ],
      "metadata": {
        "colab": {
          "base_uri": "https://localhost:8080/"
        },
        "id": "At81J8YF1WZi",
        "outputId": "21f0f8c4-5515-4275-f29e-ed0277a504a8"
      },
      "execution_count": null,
      "outputs": [
        {
          "output_type": "stream",
          "name": "stdout",
          "text": [
            "Enter int1.35\n",
            "Enter int2.20\n",
            "140.0\n"
          ]
        }
      ]
    }
  ]
}